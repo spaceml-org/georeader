{
 "cells": [
  {
   "cell_type": "markdown",
   "id": "a3c6b42a-3f46-4fd2-b964-a77ca54f7447",
   "metadata": {},
   "source": [
    "# Sentinel-2 ToA reflectance to radiance\n",
    "\n",
    "**Author**: Gonzalo Mateo-García\n",
    "\n",
    "In this notebook we show how to convert ToA reflectance from Sentinel-2 to radiance using the metadata fetched from the GEE or directly computing the conversion factors."
   ]
  },
  {
   "cell_type": "code",
   "execution_count": 1,
   "id": "9f7f5d8d-4f7a-4c3b-9ba1-499df459d32e",
   "metadata": {},
   "outputs": [],
   "source": [
    "import ee\n",
    "import matplotlib.pyplot as plt\n",
    "from georeader import plot\n",
    "from shapely.geometry import box\n",
    "from georeader.readers import ee_image\n",
    "from datetime import datetime, timezone\n",
    "from rasterio import Affine\n",
    "from georeader.readers import S2_SAFE_reader\n",
    "from georeader import reflectance\n",
    "import os\n",
    "\n",
    "os.environ[\"GS_NO_SIGN_REQUEST\"] = \"YES\"\n",
    "\n",
    "# ee.Authenticate()\n",
    "ee.Initialize()"
   ]
  },
  {
   "cell_type": "markdown",
   "id": "c5b27937-4046-41ba-b845-8fce63a1aab6",
   "metadata": {},
   "source": [
    "## Fetch a S2 image from GEE"
   ]
  },
  {
   "cell_type": "code",
   "execution_count": 2,
   "id": "eac32ceb-5588-48eb-9a3c-12d0312bfb73",
   "metadata": {},
   "outputs": [],
   "source": [
    "collection_name = \"COPERNICUS/S2_HARMONIZED\"\n",
    "tile = \"S2A_MSIL1C_20240417T064631_N0510_R020_T40RCN_20240417T091941\"\n",
    "img_col = ee.ImageCollection(collection_name)\n",
    "image = img_col.filter(ee.Filter.eq(\"PRODUCT_ID\", tile)).first()\n",
    "info_img = image.getInfo()"
   ]
  },
  {
   "cell_type": "code",
   "execution_count": 3,
   "id": "a775682e-b12d-4e5f-a0e2-304c018111a1",
   "metadata": {},
   "outputs": [
    {
     "name": "stderr",
     "output_type": "stream",
     "text": [
      "Warning 1: TIFFReadDirectory:Sum of Photometric type-related color channels and ExtraSamples doesn't match SamplesPerPixel. Defining non-color channels as ExtraSamples.\n"
     ]
    },
    {
     "data": {
      "text/plain": [
       " \n",
       "         Transform: | 10.00, 0.00, 331260.00|\n",
       "| 0.00,-10.00, 2797010.00|\n",
       "| 0.00, 0.00, 1.00|\n",
       "         Shape: (13, 622, 916)\n",
       "         Resolution: (10.0, 10.0)\n",
       "         Bounds: (331260.0, 2790790.0, 340420.0, 2797010.0)\n",
       "         CRS: EPSG:32640\n",
       "         fill_value_default: 0.0\n",
       "        "
      ]
     },
     "execution_count": 3,
     "metadata": {},
     "output_type": "execute_result"
    }
   ],
   "source": [
    "# projgee = image.select(\"B2\").projection().getInfo()\n",
    "\n",
    "aoi = box(55.325, 25.225, 55.415, 25.28)\n",
    "\n",
    "bands_0bname = list(S2_SAFE_reader.BANDS_S2_L1C)\n",
    "bands = [b.replace(\"B0\",\"B\") for b in bands_0bname]\n",
    "crs = info_img[\"bands\"][1][\"crs\"]\n",
    "transform = Affine(*info_img[\"bands\"][1][\"crs_transform\"])\n",
    "img_local = ee_image.export_image(info_img['id'],\n",
    "                                  crs=crs, transform=transform,\n",
    "                                  bands_gee=bands,\n",
    "                                  geometry=aoi)\n",
    "img_local"
   ]
  },
  {
   "cell_type": "markdown",
   "id": "9f3767ca-2534-449a-9866-7aae990fc369",
   "metadata": {},
   "source": [
    "## Fetch same image from Google bucket"
   ]
  },
  {
   "cell_type": "code",
   "execution_count": 4,
   "id": "4f8a7c12-7070-4a16-bc94-8a6cbc69a709",
   "metadata": {},
   "outputs": [
    {
     "name": "stdout",
     "output_type": "stream",
     "text": [
      "File is located at: gs://gcp-public-data-sentinel-2/tiles/40/R/CN/S2A_MSIL1C_20240417T064631_N0510_R020_T40RCN_20240417T091941.SAFE\n"
     ]
    },
    {
     "data": {
      "text/plain": [
       " \n",
       "         gs://gcp-public-data-sentinel-2/tiles/40/R/CN/S2A_MSIL1C_20240417T064631_N0510_R020_T40RCN_20240417T091941.SAFE\n",
       "         Transform: | 10.00, 0.00, 300000.00|\n",
       "| 0.00,-10.00, 2800020.00|\n",
       "| 0.00, 0.00, 1.00|\n",
       "         Shape: (13, 10980, 10980)\n",
       "         Resolution: (10.0, 10.0)\n",
       "         Bounds: (300000.0, 2690220.0, 409800.0, 2800020.0)\n",
       "         CRS: EPSG:32640\n",
       "         bands: ['B01', 'B02', 'B03', 'B04', 'B05', 'B06', 'B07', 'B08', 'B8A', 'B09', 'B10', 'B11', 'B12']\n",
       "         fill_value_default: 0\n",
       "        "
      ]
     },
     "execution_count": 4,
     "metadata": {},
     "output_type": "execute_result"
    }
   ],
   "source": [
    "s2_safe_folder = S2_SAFE_reader.s2_public_bucket_path(tile, check_exists=False)\n",
    "\n",
    "print(f\"File is located at: {s2_safe_folder}\")\n",
    "\n",
    "s2obj = S2_SAFE_reader.s2loader(s2_safe_folder, out_res=10)\n",
    "s2obj"
   ]
  },
  {
   "cell_type": "markdown",
   "id": "420efe31-a889-4ee9-b212-c55eb207c97e",
   "metadata": {},
   "source": [
    "### Convert DN to reflectances"
   ]
  },
  {
   "cell_type": "code",
   "execution_count": 5,
   "id": "445fa7f0-dc8c-409a-96c4-6edb1c3a5fed",
   "metadata": {},
   "outputs": [],
   "source": [
    "toa_refl = img_local / 10_000"
   ]
  },
  {
   "cell_type": "markdown",
   "id": "27b945d2-13f6-44d0-9410-d57765bf9e47",
   "metadata": {},
   "source": [
    "## Fetch metadata to do toa reflectance to radiance conversion\n",
    "\n",
    "See: [Google Earth Engine Sentinel-2 image properties](https://developers.google.com/earth-engine/datasets/catalog/COPERNICUS_S2_HARMONIZED#image-properties)"
   ]
  },
  {
   "cell_type": "code",
   "execution_count": 6,
   "id": "2273cd37-e651-4e11-9c8d-2632f88ff192",
   "metadata": {},
   "outputs": [
    {
     "name": "stdout",
     "output_type": "stream",
     "text": [
      "B1 -> 1884.69\n",
      "B2 -> 1959.66\n",
      "B3 -> 1823.24\n",
      "B4 -> 1512.06\n",
      "B5 -> 1424.64\n",
      "B6 -> 1287.61\n",
      "B7 -> 1162.08\n",
      "B8 -> 1041.63\n",
      "B8A -> 955.32\n",
      "B9 -> 812.92\n",
      "B10 -> 367.15\n",
      "B11 -> 245.59\n",
      "B12 -> 85.25\n"
     ]
    }
   ],
   "source": [
    "solar_irradiance_gee = {k:v for k, v in info_img['properties'].items() if k.startswith(\"SOLAR_IRRADIANCE\")}\n",
    "for b in bands:\n",
    "    print(f\"{b} -> {solar_irradiance_gee[f'SOLAR_IRRADIANCE_{b}']}\")"
   ]
  },
  {
   "cell_type": "code",
   "execution_count": 7,
   "id": "52d846a7-5eb3-4abe-b68c-c621847023de",
   "metadata": {},
   "outputs": [
    {
     "data": {
      "text/plain": [
       "datetime.datetime(2024, 4, 17, 9, 2, 44, 342000, tzinfo=datetime.timezone.utc)"
      ]
     },
     "execution_count": 7,
     "metadata": {},
     "output_type": "execute_result"
    }
   ],
   "source": [
    "date_of_aquisition = datetime.fromtimestamp(info_img['properties'][\"system:time_start\"]/ 1000).replace(tzinfo=timezone.utc)\n",
    "date_of_aquisition"
   ]
  },
  {
   "cell_type": "code",
   "execution_count": 8,
   "id": "4361acee-1ce4-4e20-b5eb-57d3568be059",
   "metadata": {},
   "outputs": [
    {
     "data": {
      "text/plain": [
       "(22.6291255460394, 0.994777427364766)"
      ]
     },
     "execution_count": 8,
     "metadata": {},
     "output_type": "execute_result"
    }
   ],
   "source": [
    "mean_solar_zenith_angle = info_img['properties']['MEAN_SOLAR_ZENITH_ANGLE']\n",
    "U = info_img['properties'][\"REFLECTANCE_CONVERSION_CORRECTION\"]\n",
    "mean_solar_zenith_angle, U"
   ]
  },
  {
   "cell_type": "code",
   "execution_count": 9,
   "id": "87f368c3-e76d-48de-951e-b86f1014a9a4",
   "metadata": {},
   "outputs": [
    {
     "name": "stdout",
     "output_type": "stream",
     "text": [
      "3.4214902841464196\n"
     ]
    },
    {
     "data": {
      "text/plain": [
       " \n",
       "         Transform: | 10.00, 0.00, 331260.00|\n",
       "| 0.00,-10.00, 2797010.00|\n",
       "| 0.00, 0.00, 1.00|\n",
       "         Shape: (13, 622, 916)\n",
       "         Resolution: (10.0, 10.0)\n",
       "         Bounds: (331260.0, 2790790.0, 340420.0, 2797010.0)\n",
       "         CRS: EPSG:32640\n",
       "         fill_value_default: 0.0\n",
       "        "
      ]
     },
     "execution_count": 9,
     "metadata": {},
     "output_type": "execute_result"
    }
   ],
   "source": [
    "import numpy as np\n",
    "\n",
    "observation_date_corr_factor = np.pi / (np.cos(mean_solar_zenith_angle/180*np.pi) * U)\n",
    "print(observation_date_corr_factor)\n",
    "\n",
    "rad = reflectance.reflectance_to_radiance(toa_refl, \n",
    "                                          solar_irradiance = [solar_irradiance_gee[f\"SOLAR_IRRADIANCE_{b}\"] for b in bands],\n",
    "                                          observation_date_corr_factor=observation_date_corr_factor)\n",
    "rad"
   ]
  },
  {
   "cell_type": "markdown",
   "id": "fee5339c-d9a9-417f-9b9a-fe1b0bf69086",
   "metadata": {},
   "source": [
    "## Metadata from the `SAFE` file"
   ]
  },
  {
   "cell_type": "code",
   "execution_count": 10,
   "id": "f9c24b85-90d7-41d0-9c3b-07f78ecdf2d1",
   "metadata": {},
   "outputs": [
    {
     "name": "stdout",
     "output_type": "stream",
     "text": [
      "SZA: 22.6291255460394 U: 0.994777427364766\n",
      "B01 -> 1884.69\n",
      "B02 -> 1959.66\n",
      "B03 -> 1823.24\n",
      "B04 -> 1512.06\n",
      "B05 -> 1424.64\n",
      "B06 -> 1287.61\n",
      "B07 -> 1162.08\n",
      "B08 -> 1041.63\n",
      "B8A -> 955.32\n",
      "B09 -> 812.92\n",
      "B10 -> 367.15\n",
      "B11 -> 245.59\n",
      "B12 -> 85.25\n"
     ]
    }
   ],
   "source": [
    "s2obj.read_metadata_tl()\n",
    "solar_irr_safe = s2obj.solar_irradiance()\n",
    "U_save = s2obj.scale_factor_U()\n",
    "print(f\"SZA: {s2obj.mean_sza} U: {U_save}\")\n",
    "solar_irr_safe\n",
    "for b in bands_0bname:\n",
    "    print(f\"{b} -> {solar_irr_safe[b]*1000}\")"
   ]
  },
  {
   "cell_type": "markdown",
   "id": "2073f864-a2ae-4a5d-a46b-46243e59e939",
   "metadata": {},
   "source": [
    "## Calculate Irradiance and correction factor using georeader"
   ]
  },
  {
   "cell_type": "code",
   "execution_count": 11,
   "id": "6cbe725c-7c51-4116-8b39-f2b38d8b8633",
   "metadata": {},
   "outputs": [
    {
     "name": "stderr",
     "output_type": "stream",
     "text": [
      "/home/gonzalo/mambaforge/envs/marsmlpy312/lib/python3.12/site-packages/openpyxl/worksheet/_reader.py:329: UserWarning: Unknown extension is not supported and will be removed\n",
      "  warn(msg)\n"
     ]
    },
    {
     "data": {
      "text/plain": [
       "{'B01': 1884.835040894774,\n",
       " 'B02': 1958.5911091822743,\n",
       " 'B03': 1824.122779369225,\n",
       " 'B04': 1512.1602113335023,\n",
       " 'B05': 1424.787320092646,\n",
       " 'B06': 1287.3886799012967,\n",
       " 'B07': 1156.5783864975936,\n",
       " 'B08': 970.9833673468557,\n",
       " 'B8A': 953.2926414812208,\n",
       " 'B09': 794.1054027444698,\n",
       " 'B10': 367.48198011502774,\n",
       " 'B11': 245.93390086371423,\n",
       " 'B12': 85.6471195539582}"
      ]
     },
     "execution_count": 11,
     "metadata": {},
     "output_type": "execute_result"
    }
   ],
   "source": [
    "satellite = tile.split(\"_\")[0] # S2A, S2B or S2C\n",
    "\n",
    "srf_satellite = S2_SAFE_reader.read_srf(satellite)\n",
    "irradiances = reflectance.integrated_irradiance(srf_satellite)\n",
    "solar_irradiance_calc = dict(zip(srf_satellite.columns, irradiances))\n",
    "solar_irradiance_calc"
   ]
  },
  {
   "cell_type": "markdown",
   "id": "e18cd583-b773-4718-86b8-6315f2b5fc80",
   "metadata": {},
   "source": [
    "### Show differences in solar irradiance"
   ]
  },
  {
   "cell_type": "code",
   "execution_count": 12,
   "id": "46aee73c-3fe6-4825-811a-decdfe97af06",
   "metadata": {},
   "outputs": [
    {
     "name": "stdout",
     "output_type": "stream",
     "text": [
      "B01 -> GEE: 1884.69 SAFE: 1884.69 Calc: 1884.84\n",
      "B02 -> GEE: 1959.66 SAFE: 1959.66 Calc: 1958.59\n",
      "B03 -> GEE: 1823.24 SAFE: 1823.24 Calc: 1824.12\n",
      "B04 -> GEE: 1512.06 SAFE: 1512.06 Calc: 1512.16\n",
      "B05 -> GEE: 1424.64 SAFE: 1424.64 Calc: 1424.79\n",
      "B06 -> GEE: 1287.61 SAFE: 1287.61 Calc: 1287.39\n",
      "B07 -> GEE: 1162.08 SAFE: 1162.08 Calc: 1156.58\n",
      "B08 -> GEE: 1041.63 SAFE: 1041.63 Calc: 970.98\n",
      "B8A -> GEE: 955.32 SAFE: 955.32 Calc: 953.29\n",
      "B09 -> GEE: 812.92 SAFE: 812.92 Calc: 794.11\n",
      "B10 -> GEE: 367.15 SAFE: 367.15 Calc: 367.48\n",
      "B11 -> GEE: 245.59 SAFE: 245.59 Calc: 245.93\n",
      "B12 -> GEE: 85.25 SAFE: 85.25 Calc: 85.65\n"
     ]
    }
   ],
   "source": [
    "for b in bands_0bname:\n",
    "    bnozero = b.replace(\"B0\", \"B\")\n",
    "    print(f\"{b} -> GEE: {solar_irradiance_gee[f'SOLAR_IRRADIANCE_{bnozero}']} SAFE: {solar_irr_safe[b]*1000:.2f} Calc: {solar_irradiance_calc[b]:.2f}\")"
   ]
  },
  {
   "cell_type": "code",
   "execution_count": 13,
   "id": "cd0c7429-81c6-44c9-a1dc-cfa608f0e8bb",
   "metadata": {},
   "outputs": [
    {
     "data": {
      "text/plain": [
       "3.327182058670046"
      ]
     },
     "execution_count": 13,
     "metadata": {},
     "output_type": "execute_result"
    }
   ],
   "source": [
    "observation_date_corr_factor_calc = reflectance.observation_date_correction_factor(img_local.footprint(\"EPSG:4326\").centroid.coords[0],\n",
    "                                                                                   date_of_acquisition=date_of_aquisition)\n",
    "observation_date_corr_factor_calc"
   ]
  },
  {
   "cell_type": "code",
   "execution_count": 14,
   "id": "bd64b7b6-1551-440a-a137-4d9491f9a384",
   "metadata": {},
   "outputs": [
    {
     "data": {
      "text/plain": [
       " \n",
       "         Transform: | 10.00, 0.00, 331260.00|\n",
       "| 0.00,-10.00, 2797010.00|\n",
       "| 0.00, 0.00, 1.00|\n",
       "         Shape: (13, 622, 916)\n",
       "         Resolution: (10.0, 10.0)\n",
       "         Bounds: (331260.0, 2790790.0, 340420.0, 2797010.0)\n",
       "         CRS: EPSG:32640\n",
       "         fill_value_default: 0.0\n",
       "        "
      ]
     },
     "execution_count": 14,
     "metadata": {},
     "output_type": "execute_result"
    }
   ],
   "source": [
    "rad2 = reflectance.reflectance_to_radiance(toa_refl, \n",
    "                                          solar_irradiance = [solar_irradiance_calc[b] for b in bands_0bname],\n",
    "                                          observation_date_corr_factor=observation_date_corr_factor)\n",
    "rad2"
   ]
  },
  {
   "cell_type": "markdown",
   "id": "1fd9dce7-f955-41ec-9476-bad0cf58ca5f",
   "metadata": {},
   "source": [
    "## Show relative differences between the calculated and official factors"
   ]
  },
  {
   "cell_type": "code",
   "execution_count": 16,
   "id": "5412acfa-b206-45f5-8dac-1576acbdf9bc",
   "metadata": {},
   "outputs": [
    {
     "name": "stdout",
     "output_type": "stream",
     "text": [
      "B01 0.9999 0.000000\n",
      "B02 1.0005 0.000000\n",
      "B03 0.9995 0.000000\n",
      "B04 0.9999 0.000000\n",
      "B05 0.9999 0.000000\n",
      "B06 1.0002 0.000000\n",
      "B07 1.0048 0.000000\n",
      "B08 1.0728 0.000000\n",
      "B8A 1.0021 0.000000\n",
      "B09 1.0237 0.000000\n",
      "B10 0.9991 0.000000\n",
      "B11 0.9986 0.000000\n",
      "B12 0.9954 0.000000\n"
     ]
    }
   ],
   "source": [
    "for i, b in enumerate(bands_0bname):\n",
    "    rad_b_or = rad.isel({\"band\":i})\n",
    "    rad_b_2 = rad2.isel({\"band\":i})\n",
    "    ratio = rad_b_or.values / rad_b_2.values\n",
    "    mean_ratio = np.mean(ratio)\n",
    "    std_ratio = np.std(ratio)\n",
    "    print(f\"{b} {mean_ratio:.4f} {std_ratio:.6f}\")"
   ]
  },
  {
   "cell_type": "markdown",
   "id": "89acc80f-7598-44b5-bee6-b8c30c69d25d",
   "metadata": {},
   "source": [
    "## Licence\n",
    "The georeader package is published under a [GNU Lesser GPL v3 licence](https://www.gnu.org/licenses/lgpl-3.0.en.html)\n",
    "\n",
    "`georeader` tutorials and notebooks are released under a [Creative Commons non-commercial licence](https://creativecommons.org/licenses/by-nc/4.0/legalcode.txt).\n",
    "\n",
    "\n",
    " If you find this work useful please cite:\n",
    "\n",
    "```\n",
    "@article{portales-julia_global_2023,\n",
    "\ttitle = {Global flood extent segmentation in optical satellite images},\n",
    "\tvolume = {13},\n",
    "\tissn = {2045-2322},\n",
    "\tdoi = {10.1038/s41598-023-47595-7},\n",
    "\tnumber = {1},\n",
    "\turldate = {2023-11-30},\n",
    "\tjournal = {Scientific Reports},\n",
    "\tauthor = {Portalés-Julià, Enrique and Mateo-García, Gonzalo and Purcell, Cormac and Gómez-Chova, Luis},\n",
    "\tmonth = nov,\n",
    "\tyear = {2023},\n",
    "\tpages = {20316},\n",
    "}\n",
    "```"
   ]
  }
 ],
 "metadata": {
  "kernelspec": {
   "display_name": "marsmlpy312",
   "language": "python",
   "name": "marsmlpy312"
  },
  "language_info": {
   "codemirror_mode": {
    "name": "ipython",
    "version": 3
   },
   "file_extension": ".py",
   "mimetype": "text/x-python",
   "name": "python",
   "nbconvert_exporter": "python",
   "pygments_lexer": "ipython3",
   "version": "3.12.3"
  }
 },
 "nbformat": 4,
 "nbformat_minor": 5
}
