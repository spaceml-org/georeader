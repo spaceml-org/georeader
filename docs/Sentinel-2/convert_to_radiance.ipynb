{
 "cells": [
  {
   "cell_type": "markdown",
   "id": "a3c6b42a-3f46-4fd2-b964-a77ca54f7447",
   "metadata": {},
   "source": [
    "# Sentinel-2 ToA reflectance to radiance\n",
    "\n",
    "**Author**: Gonzalo Mateo-García\n",
    "\n",
    "In this notebook we show how to convert ToA reflectance from Sentinel-2 to radiance using the metadata fetched from the GEE or directly computing the conversion factors."
   ]
  },
  {
   "cell_type": "code",
   "execution_count": 1,
   "id": "9f7f5d8d-4f7a-4c3b-9ba1-499df459d32e",
   "metadata": {},
   "outputs": [],
   "source": [
    "import ee\n",
    "import matplotlib.pyplot as plt\n",
    "from georeader import plot\n",
    "from shapely.geometry import box\n",
    "from georeader.readers import ee_image\n",
    "from datetime import datetime, timezone\n",
    "from rasterio import Affine\n",
    "from georeader.readers import S2_SAFE_reader\n",
    "from georeader import reflectance\n",
    "import os\n",
    "\n",
    "os.environ[\"GS_NO_SIGN_REQUEST\"] = \"YES\"\n",
    "\n",
    "# ee.Authenticate()\n",
    "ee.Initialize()"
   ]
  },
  {
   "cell_type": "markdown",
   "id": "c5b27937-4046-41ba-b845-8fce63a1aab6",
   "metadata": {},
   "source": [
    "## Fetch a S2 image from GEE"
   ]
  },
  {
   "cell_type": "code",
   "execution_count": 2,
   "id": "eac32ceb-5588-48eb-9a3c-12d0312bfb73",
   "metadata": {},
   "outputs": [],
   "source": [
    "collection_name = \"COPERNICUS/S2_HARMONIZED\"\n",
    "tile = \"S2A_MSIL1C_20240417T064631_N0510_R020_T40RCN_20240417T091941\"\n",
    "img_col = ee.ImageCollection(collection_name)\n",
    "image = img_col.filter(ee.Filter.eq(\"PRODUCT_ID\", tile)).first()\n",
    "info_img = image.getInfo()"
   ]
  },
  {
   "cell_type": "code",
   "execution_count": 3,
   "id": "a775682e-b12d-4e5f-a0e2-304c018111a1",
   "metadata": {},
   "outputs": [
    {
     "name": "stderr",
     "output_type": "stream",
     "text": [
      "Warning 1: TIFFReadDirectory:Sum of Photometric type-related color channels and ExtraSamples doesn't match SamplesPerPixel. Defining non-color channels as ExtraSamples.\n"
     ]
    },
    {
     "data": {
      "text/plain": [
       " \n",
       "         Transform: | 10.00, 0.00, 331260.00|\n",
       "| 0.00,-10.00, 2797010.00|\n",
       "| 0.00, 0.00, 1.00|\n",
       "         Shape: (13, 622, 916)\n",
       "         Resolution: (10.0, 10.0)\n",
       "         Bounds: (331260.0, 2790790.0, 340420.0, 2797010.0)\n",
       "         CRS: EPSG:32640\n",
       "         fill_value_default: 0.0\n",
       "        "
      ]
     },
     "execution_count": 3,
     "metadata": {},
     "output_type": "execute_result"
    }
   ],
   "source": [
    "# projgee = image.select(\"B2\").projection().getInfo()\n",
    "\n",
    "aoi = box(55.325, 25.225, 55.415, 25.28)\n",
    "\n",
    "bands_0bname = list(S2_SAFE_reader.BANDS_S2_L1C)\n",
    "bands = [b.replace(\"B0\",\"B\") for b in bands_0bname]\n",
    "crs = info_img[\"bands\"][1][\"crs\"]\n",
    "transform = Affine(*info_img[\"bands\"][1][\"crs_transform\"])\n",
    "img_local = ee_image.export_image(info_img['id'],\n",
    "                                  crs=crs, transform=transform,\n",
    "                                  bands_gee=bands,\n",
    "                                  geometry=aoi)\n",
    "img_local"
   ]
  },
  {
   "cell_type": "markdown",
   "id": "9f3767ca-2534-449a-9866-7aae990fc369",
   "metadata": {},
   "source": [
    "## Fetch same image from Google bucket"
   ]
  },
  {
   "cell_type": "code",
   "execution_count": 4,
   "id": "4f8a7c12-7070-4a16-bc94-8a6cbc69a709",
   "metadata": {},
   "outputs": [
    {
     "name": "stdout",
     "output_type": "stream",
     "text": [
      "File is located at: gs://gcp-public-data-sentinel-2/tiles/40/R/CN/S2A_MSIL1C_20240417T064631_N0510_R020_T40RCN_20240417T091941.SAFE\n"
     ]
    },
    {
     "data": {
      "text/plain": [
       " \n",
       "         gs://gcp-public-data-sentinel-2/tiles/40/R/CN/S2A_MSIL1C_20240417T064631_N0510_R020_T40RCN_20240417T091941.SAFE\n",
       "         Transform: | 10.00, 0.00, 300000.00|\n",
       "| 0.00,-10.00, 2800020.00|\n",
       "| 0.00, 0.00, 1.00|\n",
       "         Shape: (13, 10980, 10980)\n",
       "         Resolution: (10.0, 10.0)\n",
       "         Bounds: (300000.0, 2690220.0, 409800.0, 2800020.0)\n",
       "         CRS: EPSG:32640\n",
       "         bands: ['B01', 'B02', 'B03', 'B04', 'B05', 'B06', 'B07', 'B08', 'B8A', 'B09', 'B10', 'B11', 'B12']\n",
       "         fill_value_default: 0\n",
       "        "
      ]
     },
     "execution_count": 4,
     "metadata": {},
     "output_type": "execute_result"
    }
   ],
   "source": [
    "s2_safe_folder = S2_SAFE_reader.s2_public_bucket_path(tile, check_exists=False)\n",
    "\n",
    "print(f\"File is located at: {s2_safe_folder}\")\n",
    "\n",
    "s2obj = S2_SAFE_reader.s2loader(s2_safe_folder, out_res=10)\n",
    "s2obj"
   ]
  },
  {
   "cell_type": "markdown",
   "id": "420efe31-a889-4ee9-b212-c55eb207c97e",
   "metadata": {},
   "source": [
    "### Convert DN to reflectances"
   ]
  },
  {
   "cell_type": "code",
   "execution_count": 5,
   "id": "445fa7f0-dc8c-409a-96c4-6edb1c3a5fed",
   "metadata": {},
   "outputs": [],
   "source": [
    "toa_refl = img_local / 10_000"
   ]
  },
  {
   "cell_type": "markdown",
   "id": "27b945d2-13f6-44d0-9410-d57765bf9e47",
   "metadata": {},
   "source": [
    "## Fetch metadata to do toa reflectance to radiance conversion\n",
    "\n",
    "See: [Google Earth Engine Sentinel-2 image properties](https://developers.google.com/earth-engine/datasets/catalog/COPERNICUS_S2_HARMONIZED#image-properties)"
   ]
  },
  {
   "cell_type": "code",
   "execution_count": 6,
   "id": "2273cd37-e651-4e11-9c8d-2632f88ff192",
   "metadata": {},
   "outputs": [
    {
     "name": "stdout",
     "output_type": "stream",
     "text": [
      "B1 -> 1.88469\n",
      "B2 -> 1.9596600000000002\n",
      "B3 -> 1.82324\n",
      "B4 -> 1.51206\n",
      "B5 -> 1.4246400000000001\n",
      "B6 -> 1.28761\n",
      "B7 -> 1.16208\n",
      "B8 -> 1.04163\n",
      "B8A -> 0.9553200000000001\n",
      "B9 -> 0.81292\n",
      "B10 -> 0.36715\n",
      "B11 -> 0.24559\n",
      "B12 -> 0.08525\n"
     ]
    }
   ],
   "source": [
    "solar_irradiance_gee = {k:v/1_000. for k, v in info_img['properties'].items() if k.startswith(\"SOLAR_IRRADIANCE\")}\n",
    "for b in bands:\n",
    "    print(f\"{b} -> {solar_irradiance_gee[f'SOLAR_IRRADIANCE_{b}']}\")"
   ]
  },
  {
   "cell_type": "code",
   "execution_count": 7,
   "id": "52d846a7-5eb3-4abe-b68c-c621847023de",
   "metadata": {},
   "outputs": [
    {
     "data": {
      "text/plain": [
       "datetime.datetime(2024, 4, 17, 9, 2, 44, 342000, tzinfo=datetime.timezone.utc)"
      ]
     },
     "execution_count": 7,
     "metadata": {},
     "output_type": "execute_result"
    }
   ],
   "source": [
    "date_of_aquisition = datetime.fromtimestamp(info_img['properties'][\"system:time_start\"]/ 1000).replace(tzinfo=timezone.utc)\n",
    "date_of_aquisition"
   ]
  },
  {
   "cell_type": "code",
   "execution_count": 8,
   "id": "4361acee-1ce4-4e20-b5eb-57d3568be059",
   "metadata": {},
   "outputs": [
    {
     "data": {
      "text/plain": [
       "(22.6291255460394, 0.994777427364766)"
      ]
     },
     "execution_count": 8,
     "metadata": {},
     "output_type": "execute_result"
    }
   ],
   "source": [
    "mean_solar_zenith_angle = info_img['properties']['MEAN_SOLAR_ZENITH_ANGLE']\n",
    "U = info_img['properties'][\"REFLECTANCE_CONVERSION_CORRECTION\"]\n",
    "mean_solar_zenith_angle, U"
   ]
  },
  {
   "cell_type": "code",
   "execution_count": 9,
   "id": "87f368c3-e76d-48de-951e-b86f1014a9a4",
   "metadata": {},
   "outputs": [
    {
     "name": "stdout",
     "output_type": "stream",
     "text": [
      "3.4214902841464196\n"
     ]
    },
    {
     "data": {
      "text/plain": [
       " \n",
       "         Transform: | 10.00, 0.00, 331260.00|\n",
       "| 0.00,-10.00, 2797010.00|\n",
       "| 0.00, 0.00, 1.00|\n",
       "         Shape: (13, 622, 916)\n",
       "         Resolution: (10.0, 10.0)\n",
       "         Bounds: (331260.0, 2790790.0, 340420.0, 2797010.0)\n",
       "         CRS: EPSG:32640\n",
       "         fill_value_default: 0.0\n",
       "        "
      ]
     },
     "execution_count": 9,
     "metadata": {},
     "output_type": "execute_result"
    }
   ],
   "source": [
    "import numpy as np\n",
    "\n",
    "observation_date_corr_factor = np.pi / (np.cos(mean_solar_zenith_angle/180*np.pi) * U)\n",
    "print(observation_date_corr_factor)\n",
    "\n",
    "rad = reflectance.reflectance_to_radiance(toa_refl, \n",
    "                                          solar_irradiance = [solar_irradiance_gee[f\"SOLAR_IRRADIANCE_{b}\"] for b in bands],\n",
    "                                          observation_date_corr_factor=observation_date_corr_factor)\n",
    "rad"
   ]
  },
  {
   "cell_type": "markdown",
   "id": "fee5339c-d9a9-417f-9b9a-fe1b0bf69086",
   "metadata": {},
   "source": [
    "## Metadata from the `SAFE` file"
   ]
  },
  {
   "cell_type": "code",
   "execution_count": 10,
   "id": "f9c24b85-90d7-41d0-9c3b-07f78ecdf2d1",
   "metadata": {},
   "outputs": [
    {
     "name": "stdout",
     "output_type": "stream",
     "text": [
      "SZA: 22.6291255460394 U: 0.994777427364766\n",
      "B01 -> 1.88469\n",
      "B02 -> 1.9596600000000002\n",
      "B03 -> 1.82324\n",
      "B04 -> 1.51206\n",
      "B05 -> 1.4246400000000001\n",
      "B06 -> 1.28761\n",
      "B07 -> 1.16208\n",
      "B08 -> 1.04163\n",
      "B8A -> 0.9553200000000001\n",
      "B09 -> 0.81292\n",
      "B10 -> 0.36715\n",
      "B11 -> 0.24559\n",
      "B12 -> 0.08525\n"
     ]
    }
   ],
   "source": [
    "s2obj.read_metadata_tl()\n",
    "solar_irr_safe = s2obj.solar_irradiance()\n",
    "U_save = s2obj.scale_factor_U()\n",
    "print(f\"SZA: {s2obj.mean_sza} U: {U_save}\")\n",
    "solar_irr_safe\n",
    "for b in bands_0bname:\n",
    "    print(f\"{b} -> {solar_irr_safe[b]}\")"
   ]
  },
  {
   "cell_type": "markdown",
   "id": "2073f864-a2ae-4a5d-a46b-46243e59e939",
   "metadata": {},
   "source": [
    "## Calculate Irradiance and correction factor using georeader"
   ]
  },
  {
   "cell_type": "code",
   "execution_count": 11,
   "id": "6cbe725c-7c51-4116-8b39-f2b38d8b8633",
   "metadata": {},
   "outputs": [
    {
     "name": "stderr",
     "output_type": "stream",
     "text": [
      "/home/gonzalo/mambaforge/envs/marsmlpy312/lib/python3.12/site-packages/openpyxl/worksheet/_reader.py:329: UserWarning: Unknown extension is not supported and will be removed\n",
      "  warn(msg)\n"
     ]
    },
    {
     "data": {
      "text/plain": [
       "{'B01': 1.884835040894774,\n",
       " 'B02': 1.9585911091822743,\n",
       " 'B03': 1.8241227793692252,\n",
       " 'B04': 1.5121602113335022,\n",
       " 'B05': 1.424787320092646,\n",
       " 'B06': 1.2873886799012966,\n",
       " 'B07': 1.1565783864975936,\n",
       " 'B08': 0.9709833673468558,\n",
       " 'B8A': 0.9532926414812208,\n",
       " 'B09': 0.7941054027444697,\n",
       " 'B10': 0.36748198011502775,\n",
       " 'B11': 0.24593390086371422,\n",
       " 'B12': 0.0856471195539582}"
      ]
     },
     "execution_count": 11,
     "metadata": {},
     "output_type": "execute_result"
    }
   ],
   "source": [
    "satellite = tile.split(\"_\")[0] # S2A, S2B or S2C\n",
    "\n",
    "srf_satellite = S2_SAFE_reader.read_srf(satellite)\n",
    "irradiances = reflectance.integrated_irradiance(srf_satellite) / 1_000 # Convert from mW/m2/sr/nm to W/m2/sr/nm\n",
    "solar_irradiance_calc = dict(zip(srf_satellite.columns, irradiances))\n",
    "solar_irradiance_calc"
   ]
  },
  {
   "cell_type": "markdown",
   "id": "e18cd583-b773-4718-86b8-6315f2b5fc80",
   "metadata": {},
   "source": [
    "### Show differences in solar irradiance"
   ]
  },
  {
   "cell_type": "code",
   "execution_count": 12,
   "id": "46aee73c-3fe6-4825-811a-decdfe97af06",
   "metadata": {},
   "outputs": [
    {
     "name": "stdout",
     "output_type": "stream",
     "text": [
      "B01 -> GEE: 1.88469 SAFE: 1.8847 Calc: 1.8848\n",
      "B02 -> GEE: 1.9596600000000002 SAFE: 1.9597 Calc: 1.9586\n",
      "B03 -> GEE: 1.82324 SAFE: 1.8232 Calc: 1.8241\n",
      "B04 -> GEE: 1.51206 SAFE: 1.5121 Calc: 1.5122\n",
      "B05 -> GEE: 1.4246400000000001 SAFE: 1.4246 Calc: 1.4248\n",
      "B06 -> GEE: 1.28761 SAFE: 1.2876 Calc: 1.2874\n",
      "B07 -> GEE: 1.16208 SAFE: 1.1621 Calc: 1.1566\n",
      "B08 -> GEE: 1.04163 SAFE: 1.0416 Calc: 0.9710\n",
      "B8A -> GEE: 0.9553200000000001 SAFE: 0.9553 Calc: 0.9533\n",
      "B09 -> GEE: 0.81292 SAFE: 0.8129 Calc: 0.7941\n",
      "B10 -> GEE: 0.36715 SAFE: 0.3671 Calc: 0.3675\n",
      "B11 -> GEE: 0.24559 SAFE: 0.2456 Calc: 0.2459\n",
      "B12 -> GEE: 0.08525 SAFE: 0.0853 Calc: 0.0856\n"
     ]
    }
   ],
   "source": [
    "for b in bands_0bname:\n",
    "    bnozero = b.replace(\"B0\", \"B\")\n",
    "    print(f\"{b} -> GEE: {solar_irradiance_gee[f'SOLAR_IRRADIANCE_{bnozero}']} SAFE: {solar_irr_safe[b]:.4f} Calc: {solar_irradiance_calc[b]:.4f}\")"
   ]
  },
  {
   "cell_type": "code",
   "execution_count": 13,
   "id": "cd0c7429-81c6-44c9-a1dc-cfa608f0e8bb",
   "metadata": {},
   "outputs": [
    {
     "data": {
      "text/plain": [
       "3.327182058670046"
      ]
     },
     "execution_count": 13,
     "metadata": {},
     "output_type": "execute_result"
    }
   ],
   "source": [
    "observation_date_corr_factor_calc = reflectance.observation_date_correction_factor(img_local.footprint(\"EPSG:4326\").centroid.coords[0],\n",
    "                                                                                   date_of_acquisition=date_of_aquisition)\n",
    "observation_date_corr_factor_calc"
   ]
  },
  {
   "cell_type": "code",
   "execution_count": 14,
   "id": "bd64b7b6-1551-440a-a137-4d9491f9a384",
   "metadata": {},
   "outputs": [
    {
     "data": {
      "text/plain": [
       " \n",
       "         Transform: | 10.00, 0.00, 331260.00|\n",
       "| 0.00,-10.00, 2797010.00|\n",
       "| 0.00, 0.00, 1.00|\n",
       "         Shape: (13, 622, 916)\n",
       "         Resolution: (10.0, 10.0)\n",
       "         Bounds: (331260.0, 2790790.0, 340420.0, 2797010.0)\n",
       "         CRS: EPSG:32640\n",
       "         fill_value_default: 0.0\n",
       "        "
      ]
     },
     "execution_count": 14,
     "metadata": {},
     "output_type": "execute_result"
    }
   ],
   "source": [
    "rad2 = reflectance.reflectance_to_radiance(toa_refl, \n",
    "                                          solar_irradiance = [solar_irradiance_calc[b] for b in bands_0bname],\n",
    "                                          observation_date_corr_factor=observation_date_corr_factor)\n",
    "rad2"
   ]
  },
  {
   "cell_type": "markdown",
   "id": "1fd9dce7-f955-41ec-9476-bad0cf58ca5f",
   "metadata": {},
   "source": [
    "## Show relative differences between the calculated and official factors"
   ]
  },
  {
   "cell_type": "code",
   "execution_count": 15,
   "id": "5412acfa-b206-45f5-8dac-1576acbdf9bc",
   "metadata": {},
   "outputs": [
    {
     "name": "stdout",
     "output_type": "stream",
     "text": [
      "B01 0.9999 0.000000\n",
      "B02 1.0005 0.000000\n",
      "B03 0.9995 0.000000\n",
      "B04 0.9999 0.000000\n",
      "B05 0.9999 0.000000\n",
      "B06 1.0002 0.000000\n",
      "B07 1.0048 0.000000\n",
      "B08 1.0728 0.000000\n",
      "B8A 1.0021 0.000000\n",
      "B09 1.0237 0.000000\n",
      "B10 0.9991 0.000000\n",
      "B11 0.9986 0.000000\n",
      "B12 0.9954 0.000000\n"
     ]
    }
   ],
   "source": [
    "for i, b in enumerate(bands_0bname):\n",
    "    rad_b_or = rad.isel({\"band\":i})\n",
    "    rad_b_2 = rad2.isel({\"band\":i})\n",
    "    ratio = rad_b_or.values / rad_b_2.values\n",
    "    mean_ratio = np.mean(ratio)\n",
    "    std_ratio = np.std(ratio)\n",
    "    print(f\"{b} {mean_ratio:.4f} {std_ratio:.6f}\")"
   ]
  },
  {
   "cell_type": "markdown",
   "id": "89acc80f-7598-44b5-bee6-b8c30c69d25d",
   "metadata": {},
   "source": [
    "## Licence\n",
    "The georeader package is published under a [GNU Lesser GPL v3 licence](https://www.gnu.org/licenses/lgpl-3.0.en.html)\n",
    "\n",
    "`georeader` tutorials and notebooks are released under a [Creative Commons non-commercial licence](https://creativecommons.org/licenses/by-nc/4.0/legalcode.txt).\n",
    "\n",
    "\n",
    " If you find this work useful please cite:\n",
    "\n",
    "```\n",
    "@article{portales-julia_global_2023,\n",
    "\ttitle = {Global flood extent segmentation in optical satellite images},\n",
    "\tvolume = {13},\n",
    "\tissn = {2045-2322},\n",
    "\tdoi = {10.1038/s41598-023-47595-7},\n",
    "\tnumber = {1},\n",
    "\turldate = {2023-11-30},\n",
    "\tjournal = {Scientific Reports},\n",
    "\tauthor = {Portalés-Julià, Enrique and Mateo-García, Gonzalo and Purcell, Cormac and Gómez-Chova, Luis},\n",
    "\tmonth = nov,\n",
    "\tyear = {2023},\n",
    "\tpages = {20316},\n",
    "}\n",
    "```"
   ]
  }
 ],
 "metadata": {
  "kernelspec": {
   "display_name": "marsmlpy312",
   "language": "python",
   "name": "marsmlpy312"
  },
  "language_info": {
   "codemirror_mode": {
    "name": "ipython",
    "version": 3
   },
   "file_extension": ".py",
   "mimetype": "text/x-python",
   "name": "python",
   "nbconvert_exporter": "python",
   "pygments_lexer": "ipython3",
   "version": "3.12.3"
  }
 },
 "nbformat": 4,
 "nbformat_minor": 5
}
